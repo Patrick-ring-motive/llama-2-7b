{
  "nbformat": 4,
  "nbformat_minor": 0,
  "metadata": {
    "colab": {
      "provenance": [],
      "authorship_tag": "ABX9TyPYzGcEjV8Gl8yL6+8udYuI",
      "include_colab_link": true
    },
    "kernelspec": {
      "name": "python3",
      "display_name": "Python 3"
    },
    "language_info": {
      "name": "python"
    }
  },
  "cells": [
    {
      "cell_type": "markdown",
      "metadata": {
        "id": "view-in-github",
        "colab_type": "text"
      },
      "source": [
        "<a href=\"https://colab.research.google.com/github/Patrick-ring-motive/llama-2-7b/blob/main/llama_2_7b.ipynb\" target=\"_parent\"><img src=\"https://colab.research.google.com/assets/colab-badge.svg\" alt=\"Open In Colab\"/></a>"
      ]
    },
    {
      "cell_type": "code",
      "execution_count": null,
      "metadata": {
        "colab": {
          "base_uri": "https://localhost:8080/"
        },
        "id": "GcMwbJG-AY0A",
        "outputId": "8532f3ce-211d-47c2-e773-a9369b6e7979"
      },
      "outputs": [
        {
          "output_type": "stream",
          "name": "stdout",
          "text": [
            "Downloading Model from HuggingFace\n"
          ]
        },
        {
          "output_type": "stream",
          "name": "stderr",
          "text": [
            "100%|██████████| 3.83G/3.83G [01:32<00:00, 41.6MiB/s]\n"
          ]
        },
        {
          "output_type": "stream",
          "name": "stdout",
          "text": [
            "Loaded model\n",
            "\n",
            "What is your question? > What's your name?\n",
            "0134567890\n",
            "\n",
            "\n",
            "12 tokens generated in 21.577595 seconds.\n",
            "0.5561324204618561 tokens per second\n",
            "\n",
            "What is your question? > what color is an apply?\n",
            "1. An apple tree. It bears the fruit called \"apple\". 2. A type of horse. 3. An insect resembling a large, fat ant that bites people to extract their blood. 4. A person who has been chosen or elected for some position.\n",
            "Ass\n",
            "\n",
            "63 tokens generated in 62.544016 seconds.\n",
            "1.0072906114062676 tokens per second\n",
            "\n",
            "What is your question? > What is the average air speed velocity of an unladen swallow?\n",
            "125 mph\n",
            "\n",
            "\n",
            "7 tokens generated in 20.996167 seconds.\n",
            "0.33339417901978885 tokens per second\n"
          ]
        }
      ],
      "source": [
        "try:\n",
        "  import ctransformers\n",
        "except:\n",
        "  !pip3 install ctransformers\n",
        "  import ctransformers\n",
        "import time\n",
        "import requests\n",
        "from tqdm import tqdm\n",
        "import os\n",
        "import uuid\n",
        "\n",
        "\n",
        "\n",
        "#Get the model file - you will need Expandable Storage to make this work\n",
        "\n",
        "if not os.path.isfile('llama-2-7b.ggmlv3.q4_K_S.bin'):\n",
        "  print(\"Downloading Model from HuggingFace\")\n",
        "  url = \"https://huggingface.co/TheBloke/Llama-2-7B-GGML/resolve/main/llama-2-7b.ggmlv3.q4_K_S.bin\"\n",
        "  response = requests.get(url, stream=True)\n",
        "  total_size_in_bytes= int(response.headers.get('content-length', 0))\n",
        "  block_size = 1024 #1 Kibibyte\n",
        "  progress_bar = tqdm(total=total_size_in_bytes, unit='iB', unit_scale=True)\n",
        "  with open('llama-2-7b.ggmlv3.q4_K_S.bin', 'wb') as file:\n",
        "      for data in response.iter_content(block_size):\n",
        "          progress_bar.update(len(data))\n",
        "          file.write(data)\n",
        "  progress_bar.close()\n",
        "  if total_size_in_bytes != 0 and progress_bar.n != total_size_in_bytes:\n",
        "      print(\"ERROR, something went wrong\")\n",
        "\n",
        "#Sets up the transformer library and adds in the Llama-2 model\n",
        "\n",
        "configObj = ctransformers.Config(stop=[\"\\n\", 'User'])\n",
        "config = ctransformers.AutoConfig(config=configObj, model_type='llama')\n",
        "config.config.stop = [\"\\n\"]\n",
        "\n",
        "llm = ctransformers.AutoModelForCausalLM.from_pretrained('./llama-2-7b.ggmlv3.q4_K_S.bin', config=config)\n",
        "print(\"Loaded model\")\n",
        "\n",
        "def time_it(func):\n",
        "    def wrapper(*args, **kwargs):\n",
        "        start_time = time.time()\n",
        "        result = func(*args, **kwargs)\n",
        "        end_time = time.time()\n",
        "        execution_time = end_time - start_time\n",
        "        print(f\"Function '{func.__name__}' took {execution_time:.6f} seconds to execute.\")\n",
        "        return result\n",
        "    return wrapper\n",
        "\n",
        "def complete(prompt, stop=[\"User\", \"Assistant\"]):\n",
        "  tokens = llm.tokenize(prompt)\n",
        "  token_count = 0\n",
        "  output = ''\n",
        "  for token in llm.generate(tokens):\n",
        "    token_count += 1\n",
        "    result = llm.detokenize(token)\n",
        "    output += result\n",
        "    for word in stop:\n",
        "      if word in output:\n",
        "        print('\\n')\n",
        "        return [output, token_count]\n",
        "    print(result, end='',flush=True)\n",
        "\n",
        "  print('\\n')\n",
        "  return [output, token_count]\n",
        "\n",
        "while True:\n",
        "  question = input(\"\\nWhat is your question? > \")\n",
        "  start_time = time.time()\n",
        "  output, token_count = complete(f'User: {question}\\nAssistant: ')\n",
        "  end_time = time.time()\n",
        "  execution_time = end_time - start_time\n",
        "  print(f\"{token_count} tokens generated in {execution_time:.6f} seconds.\\n{token_count/execution_time} tokens per second\")\n",
        ""
      ]
    }
  ]
}